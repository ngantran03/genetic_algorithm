{
 "cells": [
  {
   "cell_type": "code",
   "execution_count": 6,
   "metadata": {},
   "outputs": [],
   "source": [
    "import random\n",
    "import numpy as np\n",
    "import utilities\n",
    "import function as fun"
   ]
  },
  {
   "cell_type": "code",
   "execution_count": 7,
   "metadata": {},
   "outputs": [],
   "source": [
    "population_size = 10\n",
    "domain =  [[[1,  500], 'int'], [[1, 100], 'int'], [[1, 500], 'int']]\n",
    "max_generations = 10\n",
    "crossover_probability = 0.9\n",
    "mutation_probability = 0.5"
   ]
  },
  {
   "cell_type": "code",
   "execution_count": 8,
   "metadata": {},
   "outputs": [],
   "source": [
    "population = utilities.initialize_population(population_size=population_size, domain=domain)\n",
    "utilities.evaluate_population(population)\n",
    "fitness = utilities.extrema(population, 'max').fitness\n",
    "max_fitness = 0\n",
    "iter = 0\n",
    "while fitness > 0.6 and iter < 1:\n",
    "    iter += 1\n",
    "    new_population = utilities.initialize_population(population_size=population_size, domain=domain)\n",
    "    utilities.evaluate_population(new_population)\n",
    "    new_fitness = utilities.extrema(new_population, 'max').fitness\n",
    "    # print(f'new_fitness: {new_fitness}')\n",
    "    if new_fitness < fitness:\n",
    "        population = new_population\n",
    "        fitness = new_fitness\n",
    "    else:\n",
    "        max_fitness = new_fitness\n",
    "    # print(f'iter: {iter}, fitness: {fitness}')"
   ]
  },
  {
   "cell_type": "code",
   "execution_count": 9,
   "metadata": {},
   "outputs": [
    {
     "data": {
      "text/plain": [
       "0.9029562982005142"
      ]
     },
     "execution_count": 9,
     "metadata": {},
     "output_type": "execute_result"
    }
   ],
   "source": [
    "fitness"
   ]
  },
  {
   "cell_type": "code",
   "execution_count": 10,
   "metadata": {},
   "outputs": [
    {
     "data": {
      "text/plain": [
       "0.9106683804627249"
      ]
     },
     "execution_count": 10,
     "metadata": {},
     "output_type": "execute_result"
    }
   ],
   "source": [
    "max_fitness"
   ]
  },
  {
   "cell_type": "code",
   "execution_count": 11,
   "metadata": {},
   "outputs": [
    {
     "name": "stdout",
     "output_type": "stream",
     "text": [
      "495 80 232 111101111. 1010000. 11101000.\n",
      "343 43 105 101010111. 101011. 1101001.\n",
      "325 17 428 101000101. 10001. 110101100.\n",
      "174 20 403 10101110. 10100. 110010011.\n",
      "203 80 384 11001011. 1010000. 110000000.\n",
      "9 15 102 1001. 1111. 1100110.\n",
      "305 89 420 100110001. 1011001. 110100100.\n",
      "95 22 385 1011111. 10110. 110000001.\n",
      "326 98 63 101000110. 1100010. 111111.\n",
      "122 56 103 1111010. 111000. 1100111.\n"
     ]
    }
   ],
   "source": [
    "# initialize the population with 20 Points within the domain x1 ∈ [-15, -5], x2 ∈ [-3, 3].\n",
    "# population = utilities.initialize_population(population_size=population_size, domain=domain)\n",
    "# print value of population\n",
    "for point in population:\n",
    "    values = [str(individual.value) for individual in point.individuals]\n",
    "    chromosomes = [str(individual.chromosome) for individual in point.individuals]\n",
    "    print(\" \".join(values), \" \".join(chromosomes))\n"
   ]
  },
  {
   "cell_type": "code",
   "execution_count": 12,
   "metadata": {},
   "outputs": [
    {
     "name": "stdout",
     "output_type": "stream",
     "text": [
      "0.9029562982005142\n"
     ]
    }
   ],
   "source": [
    "utilities.evaluate_population(population)\n",
    "print(utilities.extrema(population, 'max').fitness)"
   ]
  },
  {
   "cell_type": "code",
   "execution_count": 13,
   "metadata": {},
   "outputs": [],
   "source": [
    "full_result = []"
   ]
  },
  {
   "cell_type": "code",
   "execution_count": 14,
   "metadata": {},
   "outputs": [],
   "source": [
    "def genetic_algorithm(population, population_size, max_generations, crossover_probability, mutation_probability):\n",
    "    utilities.evaluate_population(population)\n",
    "    best_res = utilities.extrema(population, 'max')\n",
    "    print(f\"Original: {best_res.fitness}\")\n",
    "\n",
    "    result = []\n",
    "    for generation in range(max_generations):\n",
    "        new_population = []\n",
    "        # select 10 best individual in the population to pass on the next generation\n",
    "        # selection as option\n",
    "        best_individuals = utilities.selection_fitness_ranking(population, 5, 'max')\n",
    "        new_population.append(best_individuals[0])\n",
    "\n",
    "        # create 10 by mutation 10 times\n",
    "        for individual in best_individuals:\n",
    "            mutation_result = utilities.mutation(individual, mutation_probability)\n",
    "            if mutation_result is not None:\n",
    "                new_population.append(mutation_result)\n",
    "\n",
    "        # use the 5 best individuals to create 10 new individuals by crossover\n",
    "        for i in range(population_size - len(new_population)):\n",
    "            parent1 = random.choice(best_individuals)\n",
    "            parent2 = random.choice(best_individuals)\n",
    "            while parent2 == parent1:\n",
    "                parent2 = random.choice(best_individuals)\n",
    "            crossover_result = utilities.crossover(parent1, parent2, crossover_probability)\n",
    "            if crossover_result is not None:\n",
    "                new_population.extend(crossover_result)\n",
    "\n",
    "        population = new_population\n",
    "        # evaluate the fitness of each individual in the population\n",
    "        utilities.evaluate_population(population)\n",
    "        best_res = utilities.extrema(population, 'max')\n",
    "        result.append(best_res.fitness)\n",
    "        print(f\"Generation {generation}: {best_res.fitness}\")\n",
    "        # for point in population:\n",
    "        #     values = [str(individual.value) for individual in point.individuals]\n",
    "        #     print(\" \".join(values))\n",
    "    return result"
   ]
  },
  {
   "cell_type": "code",
   "execution_count": 15,
   "metadata": {},
   "outputs": [
    {
     "name": "stdout",
     "output_type": "stream",
     "text": [
      "Original: 0.9029562982005142\n",
      "Generation 0: 0.9029562982005142\n",
      "Generation 1: 0.9029562982005142\n",
      "Generation 2: 0.9029562982005142\n",
      "Generation 3: 0.9029562982005142\n",
      "Generation 4: 0.9029562982005142\n",
      "Generation 5: 0.9029562982005142\n",
      "Generation 6: 0.9029562982005142\n",
      "Generation 7: 0.9029562982005142\n",
      "Generation 8: 0.9029562982005142\n",
      "Generation 9: 0.9029562982005142\n",
      "Original: 0.9029562982005142\n",
      "Generation 0: 0.9029562982005142\n",
      "Generation 1: 0.9029562982005142\n",
      "Generation 2: 0.9029562982005142\n",
      "Generation 3: 0.9029562982005142\n",
      "Generation 4: 0.9029562982005142\n",
      "Generation 5: 0.9029562982005142\n",
      "Generation 6: 0.9029562982005142\n",
      "Generation 7: 0.9029562982005142\n",
      "Generation 8: 0.9029562982005142\n",
      "Generation 9: 0.9029562982005142\n",
      "Original: 0.9029562982005142\n",
      "Generation 0: 0.9029562982005142\n",
      "Generation 1: 0.9029562982005142\n",
      "Generation 2: 0.9029562982005142\n",
      "Generation 3: 0.9029562982005142\n",
      "Generation 4: 0.9029562982005142\n",
      "Generation 5: 0.9029562982005142\n",
      "Generation 6: 0.9029562982005142\n",
      "Generation 7: 0.9029562982005142\n",
      "Generation 8: 0.9029562982005142\n",
      "Generation 9: 0.9029562982005142\n",
      "Original: 0.9029562982005142\n",
      "Generation 0: 0.9029562982005142\n",
      "Generation 1: 0.9029562982005142\n",
      "Generation 2: 0.9029562982005142\n",
      "Generation 3: 0.9029562982005142\n",
      "Generation 4: 0.9029562982005142\n",
      "Generation 5: 0.9029562982005142\n",
      "Generation 6: 0.9029562982005142\n",
      "Generation 7: 0.9029562982005142\n",
      "Generation 8: 0.9029562982005142\n",
      "Generation 9: 0.9029562982005142\n",
      "Original: 0.9029562982005142\n",
      "Generation 0: 0.9029562982005142\n",
      "Generation 1: 0.9029562982005142\n",
      "Generation 2: 0.9029562982005142\n",
      "Generation 3: 0.9029562982005142\n",
      "Generation 4: 0.9029562982005142\n",
      "Generation 5: 0.9029562982005142\n",
      "Generation 6: 0.9029562982005142\n",
      "Generation 7: 0.9029562982005142\n",
      "Generation 8: 0.9029562982005142\n",
      "Generation 9: 0.9029562982005142\n",
      "Original: 0.9029562982005142\n",
      "Generation 0: 0.9029562982005142\n",
      "Generation 1: 0.9029562982005142\n",
      "Generation 2: 0.9029562982005142\n",
      "Generation 3: 0.9029562982005142\n",
      "Generation 4: 0.9029562982005142\n",
      "Generation 5: 0.9029562982005142\n",
      "Generation 6: 0.9029562982005142\n"
     ]
    },
    {
     "ename": "KeyboardInterrupt",
     "evalue": "",
     "output_type": "error",
     "traceback": [
      "\u001b[0;31m---------------------------------------------------------------------------\u001b[0m",
      "\u001b[0;31mKeyboardInterrupt\u001b[0m                         Traceback (most recent call last)",
      "Cell \u001b[0;32mIn[15], line 2\u001b[0m\n\u001b[1;32m      1\u001b[0m \u001b[38;5;28;01mfor\u001b[39;00m i \u001b[38;5;129;01min\u001b[39;00m \u001b[38;5;28mrange\u001b[39m(\u001b[38;5;241m10\u001b[39m):\n\u001b[0;32m----> 2\u001b[0m     full_result\u001b[38;5;241m.\u001b[39mappend(\u001b[43mgenetic_algorithm\u001b[49m\u001b[43m(\u001b[49m\u001b[43mpopulation\u001b[49m\u001b[43m,\u001b[49m\u001b[43m \u001b[49m\u001b[43mpopulation_size\u001b[49m\u001b[43m,\u001b[49m\u001b[43m \u001b[49m\u001b[43mmax_generations\u001b[49m\u001b[43m,\u001b[49m\u001b[43m \u001b[49m\u001b[43mcrossover_probability\u001b[49m\u001b[43m,\u001b[49m\u001b[43m \u001b[49m\u001b[43mmutation_probability\u001b[49m\u001b[43m)\u001b[49m)\n",
      "Cell \u001b[0;32mIn[14], line 32\u001b[0m, in \u001b[0;36mgenetic_algorithm\u001b[0;34m(population, population_size, max_generations, crossover_probability, mutation_probability)\u001b[0m\n\u001b[1;32m     30\u001b[0m population \u001b[38;5;241m=\u001b[39m new_population\n\u001b[1;32m     31\u001b[0m \u001b[38;5;66;03m# evaluate the fitness of each individual in the population\u001b[39;00m\n\u001b[0;32m---> 32\u001b[0m \u001b[43mutilities\u001b[49m\u001b[38;5;241;43m.\u001b[39;49m\u001b[43mevaluate_population\u001b[49m\u001b[43m(\u001b[49m\u001b[43mpopulation\u001b[49m\u001b[43m)\u001b[49m\n\u001b[1;32m     33\u001b[0m best_res \u001b[38;5;241m=\u001b[39m utilities\u001b[38;5;241m.\u001b[39mextrema(population, \u001b[38;5;124m'\u001b[39m\u001b[38;5;124mmax\u001b[39m\u001b[38;5;124m'\u001b[39m)\n\u001b[1;32m     34\u001b[0m result\u001b[38;5;241m.\u001b[39mappend(best_res\u001b[38;5;241m.\u001b[39mfitness)\n",
      "File \u001b[0;32m~/Desktop/1. Fulbright/genetic_algorithm/utilities.py:83\u001b[0m, in \u001b[0;36mevaluate_population\u001b[0;34m(population)\u001b[0m\n\u001b[1;32m     81\u001b[0m \u001b[38;5;28;01mdef\u001b[39;00m \u001b[38;5;21mevaluate_population\u001b[39m(population):\n\u001b[1;32m     82\u001b[0m     \u001b[38;5;28;01mfor\u001b[39;00m point \u001b[38;5;129;01min\u001b[39;00m population:\n\u001b[0;32m---> 83\u001b[0m         \u001b[43mpoint\u001b[49m\u001b[38;5;241;43m.\u001b[39;49m\u001b[43mfitness_evaluation\u001b[49m\u001b[43m(\u001b[49m\u001b[43m)\u001b[49m\n",
      "File \u001b[0;32m~/Desktop/1. Fulbright/genetic_algorithm/utilities.py:17\u001b[0m, in \u001b[0;36mPoint.fitness_evaluation\u001b[0;34m(self)\u001b[0m\n\u001b[1;32m     15\u001b[0m \u001b[38;5;28;01mdef\u001b[39;00m \u001b[38;5;21mfitness_evaluation\u001b[39m(\u001b[38;5;28mself\u001b[39m):\n\u001b[1;32m     16\u001b[0m     \u001b[38;5;66;03m# Evaluate the fitness of the point\u001b[39;00m\n\u001b[0;32m---> 17\u001b[0m     \u001b[38;5;28mself\u001b[39m\u001b[38;5;241m.\u001b[39mfitness \u001b[38;5;241m=\u001b[39m \u001b[43mfunction\u001b[49m\u001b[38;5;241;43m.\u001b[39;49m\u001b[43mfunction_evaluation\u001b[49m\u001b[43m(\u001b[49m\u001b[43m[\u001b[49m\u001b[43mindividual\u001b[49m\u001b[38;5;241;43m.\u001b[39;49m\u001b[43mvalue\u001b[49m\u001b[43m \u001b[49m\u001b[38;5;28;43;01mfor\u001b[39;49;00m\u001b[43m \u001b[49m\u001b[43mindividual\u001b[49m\u001b[43m \u001b[49m\u001b[38;5;129;43;01min\u001b[39;49;00m\u001b[43m \u001b[49m\u001b[38;5;28;43mself\u001b[39;49m\u001b[38;5;241;43m.\u001b[39;49m\u001b[43mindividuals\u001b[49m\u001b[43m]\u001b[49m\u001b[43m)\u001b[49m\n",
      "File \u001b[0;32m~/Desktop/1. Fulbright/genetic_algorithm/function.py:45\u001b[0m, in \u001b[0;36mfunction_evaluation\u001b[0;34m(x)\u001b[0m\n\u001b[1;32m     42\u001b[0m clf\u001b[38;5;241m.\u001b[39mfit(X_train, y_train)\n\u001b[1;32m     44\u001b[0m \u001b[38;5;66;03m# Predict the target variable for the test set\u001b[39;00m\n\u001b[0;32m---> 45\u001b[0m y_pred \u001b[38;5;241m=\u001b[39m \u001b[43mclf\u001b[49m\u001b[38;5;241;43m.\u001b[39;49m\u001b[43mpredict\u001b[49m\u001b[43m(\u001b[49m\u001b[43mX_test\u001b[49m\u001b[43m)\u001b[49m\n\u001b[1;32m     47\u001b[0m \u001b[38;5;66;03m# Evaluate the model\u001b[39;00m\n\u001b[1;32m     48\u001b[0m accuracy \u001b[38;5;241m=\u001b[39m accuracy_score(y_test, y_pred)\n",
      "File \u001b[0;32m~/Library/Python/3.9/lib/python/site-packages/sklearn/ensemble/_forest.py:904\u001b[0m, in \u001b[0;36mForestClassifier.predict\u001b[0;34m(self, X)\u001b[0m\n\u001b[1;32m    883\u001b[0m \u001b[38;5;28;01mdef\u001b[39;00m \u001b[38;5;21mpredict\u001b[39m(\u001b[38;5;28mself\u001b[39m, X):\n\u001b[1;32m    884\u001b[0m \u001b[38;5;250m    \u001b[39m\u001b[38;5;124;03m\"\"\"\u001b[39;00m\n\u001b[1;32m    885\u001b[0m \u001b[38;5;124;03m    Predict class for X.\u001b[39;00m\n\u001b[1;32m    886\u001b[0m \n\u001b[0;32m   (...)\u001b[0m\n\u001b[1;32m    902\u001b[0m \u001b[38;5;124;03m        The predicted classes.\u001b[39;00m\n\u001b[1;32m    903\u001b[0m \u001b[38;5;124;03m    \"\"\"\u001b[39;00m\n\u001b[0;32m--> 904\u001b[0m     proba \u001b[38;5;241m=\u001b[39m \u001b[38;5;28;43mself\u001b[39;49m\u001b[38;5;241;43m.\u001b[39;49m\u001b[43mpredict_proba\u001b[49m\u001b[43m(\u001b[49m\u001b[43mX\u001b[49m\u001b[43m)\u001b[49m\n\u001b[1;32m    906\u001b[0m     \u001b[38;5;28;01mif\u001b[39;00m \u001b[38;5;28mself\u001b[39m\u001b[38;5;241m.\u001b[39mn_outputs_ \u001b[38;5;241m==\u001b[39m \u001b[38;5;241m1\u001b[39m:\n\u001b[1;32m    907\u001b[0m         \u001b[38;5;28;01mreturn\u001b[39;00m \u001b[38;5;28mself\u001b[39m\u001b[38;5;241m.\u001b[39mclasses_\u001b[38;5;241m.\u001b[39mtake(np\u001b[38;5;241m.\u001b[39margmax(proba, axis\u001b[38;5;241m=\u001b[39m\u001b[38;5;241m1\u001b[39m), axis\u001b[38;5;241m=\u001b[39m\u001b[38;5;241m0\u001b[39m)\n",
      "File \u001b[0;32m~/Library/Python/3.9/lib/python/site-packages/sklearn/ensemble/_forest.py:957\u001b[0m, in \u001b[0;36mForestClassifier.predict_proba\u001b[0;34m(self, X)\u001b[0m\n\u001b[1;32m    952\u001b[0m all_proba \u001b[38;5;241m=\u001b[39m [\n\u001b[1;32m    953\u001b[0m     np\u001b[38;5;241m.\u001b[39mzeros((X\u001b[38;5;241m.\u001b[39mshape[\u001b[38;5;241m0\u001b[39m], j), dtype\u001b[38;5;241m=\u001b[39mnp\u001b[38;5;241m.\u001b[39mfloat64)\n\u001b[1;32m    954\u001b[0m     \u001b[38;5;28;01mfor\u001b[39;00m j \u001b[38;5;129;01min\u001b[39;00m np\u001b[38;5;241m.\u001b[39matleast_1d(\u001b[38;5;28mself\u001b[39m\u001b[38;5;241m.\u001b[39mn_classes_)\n\u001b[1;32m    955\u001b[0m ]\n\u001b[1;32m    956\u001b[0m lock \u001b[38;5;241m=\u001b[39m threading\u001b[38;5;241m.\u001b[39mLock()\n\u001b[0;32m--> 957\u001b[0m \u001b[43mParallel\u001b[49m\u001b[43m(\u001b[49m\u001b[43mn_jobs\u001b[49m\u001b[38;5;241;43m=\u001b[39;49m\u001b[43mn_jobs\u001b[49m\u001b[43m,\u001b[49m\u001b[43m \u001b[49m\u001b[43mverbose\u001b[49m\u001b[38;5;241;43m=\u001b[39;49m\u001b[38;5;28;43mself\u001b[39;49m\u001b[38;5;241;43m.\u001b[39;49m\u001b[43mverbose\u001b[49m\u001b[43m,\u001b[49m\u001b[43m \u001b[49m\u001b[43mrequire\u001b[49m\u001b[38;5;241;43m=\u001b[39;49m\u001b[38;5;124;43m\"\u001b[39;49m\u001b[38;5;124;43msharedmem\u001b[39;49m\u001b[38;5;124;43m\"\u001b[39;49m\u001b[43m)\u001b[49m\u001b[43m(\u001b[49m\n\u001b[1;32m    958\u001b[0m \u001b[43m    \u001b[49m\u001b[43mdelayed\u001b[49m\u001b[43m(\u001b[49m\u001b[43m_accumulate_prediction\u001b[49m\u001b[43m)\u001b[49m\u001b[43m(\u001b[49m\u001b[43me\u001b[49m\u001b[38;5;241;43m.\u001b[39;49m\u001b[43mpredict_proba\u001b[49m\u001b[43m,\u001b[49m\u001b[43m \u001b[49m\u001b[43mX\u001b[49m\u001b[43m,\u001b[49m\u001b[43m \u001b[49m\u001b[43mall_proba\u001b[49m\u001b[43m,\u001b[49m\u001b[43m \u001b[49m\u001b[43mlock\u001b[49m\u001b[43m)\u001b[49m\n\u001b[1;32m    959\u001b[0m \u001b[43m    \u001b[49m\u001b[38;5;28;43;01mfor\u001b[39;49;00m\u001b[43m \u001b[49m\u001b[43me\u001b[49m\u001b[43m \u001b[49m\u001b[38;5;129;43;01min\u001b[39;49;00m\u001b[43m \u001b[49m\u001b[38;5;28;43mself\u001b[39;49m\u001b[38;5;241;43m.\u001b[39;49m\u001b[43mestimators_\u001b[49m\n\u001b[1;32m    960\u001b[0m \u001b[43m\u001b[49m\u001b[43m)\u001b[49m\n\u001b[1;32m    962\u001b[0m \u001b[38;5;28;01mfor\u001b[39;00m proba \u001b[38;5;129;01min\u001b[39;00m all_proba:\n\u001b[1;32m    963\u001b[0m     proba \u001b[38;5;241m/\u001b[39m\u001b[38;5;241m=\u001b[39m \u001b[38;5;28mlen\u001b[39m(\u001b[38;5;28mself\u001b[39m\u001b[38;5;241m.\u001b[39mestimators_)\n",
      "File \u001b[0;32m~/Library/Python/3.9/lib/python/site-packages/sklearn/utils/parallel.py:74\u001b[0m, in \u001b[0;36mParallel.__call__\u001b[0;34m(self, iterable)\u001b[0m\n\u001b[1;32m     69\u001b[0m config \u001b[38;5;241m=\u001b[39m get_config()\n\u001b[1;32m     70\u001b[0m iterable_with_config \u001b[38;5;241m=\u001b[39m (\n\u001b[1;32m     71\u001b[0m     (_with_config(delayed_func, config), args, kwargs)\n\u001b[1;32m     72\u001b[0m     \u001b[38;5;28;01mfor\u001b[39;00m delayed_func, args, kwargs \u001b[38;5;129;01min\u001b[39;00m iterable\n\u001b[1;32m     73\u001b[0m )\n\u001b[0;32m---> 74\u001b[0m \u001b[38;5;28;01mreturn\u001b[39;00m \u001b[38;5;28;43msuper\u001b[39;49m\u001b[43m(\u001b[49m\u001b[43m)\u001b[49m\u001b[38;5;241;43m.\u001b[39;49m\u001b[38;5;21;43m__call__\u001b[39;49m\u001b[43m(\u001b[49m\u001b[43miterable_with_config\u001b[49m\u001b[43m)\u001b[49m\n",
      "File \u001b[0;32m~/Library/Python/3.9/lib/python/site-packages/joblib/parallel.py:1918\u001b[0m, in \u001b[0;36mParallel.__call__\u001b[0;34m(self, iterable)\u001b[0m\n\u001b[1;32m   1916\u001b[0m     output \u001b[38;5;241m=\u001b[39m \u001b[38;5;28mself\u001b[39m\u001b[38;5;241m.\u001b[39m_get_sequential_output(iterable)\n\u001b[1;32m   1917\u001b[0m     \u001b[38;5;28mnext\u001b[39m(output)\n\u001b[0;32m-> 1918\u001b[0m     \u001b[38;5;28;01mreturn\u001b[39;00m output \u001b[38;5;28;01mif\u001b[39;00m \u001b[38;5;28mself\u001b[39m\u001b[38;5;241m.\u001b[39mreturn_generator \u001b[38;5;28;01melse\u001b[39;00m \u001b[38;5;28;43mlist\u001b[39;49m\u001b[43m(\u001b[49m\u001b[43moutput\u001b[49m\u001b[43m)\u001b[49m\n\u001b[1;32m   1920\u001b[0m \u001b[38;5;66;03m# Let's create an ID that uniquely identifies the current call. If the\u001b[39;00m\n\u001b[1;32m   1921\u001b[0m \u001b[38;5;66;03m# call is interrupted early and that the same instance is immediately\u001b[39;00m\n\u001b[1;32m   1922\u001b[0m \u001b[38;5;66;03m# re-used, this id will be used to prevent workers that were\u001b[39;00m\n\u001b[1;32m   1923\u001b[0m \u001b[38;5;66;03m# concurrently finalizing a task from the previous call to run the\u001b[39;00m\n\u001b[1;32m   1924\u001b[0m \u001b[38;5;66;03m# callback.\u001b[39;00m\n\u001b[1;32m   1925\u001b[0m \u001b[38;5;28;01mwith\u001b[39;00m \u001b[38;5;28mself\u001b[39m\u001b[38;5;241m.\u001b[39m_lock:\n",
      "File \u001b[0;32m~/Library/Python/3.9/lib/python/site-packages/joblib/parallel.py:1847\u001b[0m, in \u001b[0;36mParallel._get_sequential_output\u001b[0;34m(self, iterable)\u001b[0m\n\u001b[1;32m   1845\u001b[0m \u001b[38;5;28mself\u001b[39m\u001b[38;5;241m.\u001b[39mn_dispatched_batches \u001b[38;5;241m+\u001b[39m\u001b[38;5;241m=\u001b[39m \u001b[38;5;241m1\u001b[39m\n\u001b[1;32m   1846\u001b[0m \u001b[38;5;28mself\u001b[39m\u001b[38;5;241m.\u001b[39mn_dispatched_tasks \u001b[38;5;241m+\u001b[39m\u001b[38;5;241m=\u001b[39m \u001b[38;5;241m1\u001b[39m\n\u001b[0;32m-> 1847\u001b[0m res \u001b[38;5;241m=\u001b[39m \u001b[43mfunc\u001b[49m\u001b[43m(\u001b[49m\u001b[38;5;241;43m*\u001b[39;49m\u001b[43margs\u001b[49m\u001b[43m,\u001b[49m\u001b[43m \u001b[49m\u001b[38;5;241;43m*\u001b[39;49m\u001b[38;5;241;43m*\u001b[39;49m\u001b[43mkwargs\u001b[49m\u001b[43m)\u001b[49m\n\u001b[1;32m   1848\u001b[0m \u001b[38;5;28mself\u001b[39m\u001b[38;5;241m.\u001b[39mn_completed_tasks \u001b[38;5;241m+\u001b[39m\u001b[38;5;241m=\u001b[39m \u001b[38;5;241m1\u001b[39m\n\u001b[1;32m   1849\u001b[0m \u001b[38;5;28mself\u001b[39m\u001b[38;5;241m.\u001b[39mprint_progress()\n",
      "File \u001b[0;32m~/Library/Python/3.9/lib/python/site-packages/sklearn/utils/parallel.py:135\u001b[0m, in \u001b[0;36m_FuncWrapper.__call__\u001b[0;34m(self, *args, **kwargs)\u001b[0m\n\u001b[1;32m    125\u001b[0m     warnings\u001b[38;5;241m.\u001b[39mwarn(\n\u001b[1;32m    126\u001b[0m         (\n\u001b[1;32m    127\u001b[0m             \u001b[38;5;124m\"\u001b[39m\u001b[38;5;124m`sklearn.utils.parallel.delayed` should be used with\u001b[39m\u001b[38;5;124m\"\u001b[39m\n\u001b[0;32m   (...)\u001b[0m\n\u001b[1;32m    132\u001b[0m         \u001b[38;5;167;01mUserWarning\u001b[39;00m,\n\u001b[1;32m    133\u001b[0m     )\n\u001b[1;32m    134\u001b[0m     config \u001b[38;5;241m=\u001b[39m {}\n\u001b[0;32m--> 135\u001b[0m \u001b[38;5;28;01mwith\u001b[39;00m config_context(\u001b[38;5;241m*\u001b[39m\u001b[38;5;241m*\u001b[39mconfig):\n\u001b[1;32m    136\u001b[0m     \u001b[38;5;28;01mreturn\u001b[39;00m \u001b[38;5;28mself\u001b[39m\u001b[38;5;241m.\u001b[39mfunction(\u001b[38;5;241m*\u001b[39margs, \u001b[38;5;241m*\u001b[39m\u001b[38;5;241m*\u001b[39mkwargs)\n",
      "File \u001b[0;32m/Library/Developer/CommandLineTools/Library/Frameworks/Python3.framework/Versions/3.9/lib/python3.9/contextlib.py:117\u001b[0m, in \u001b[0;36m_GeneratorContextManager.__enter__\u001b[0;34m(self)\u001b[0m\n\u001b[1;32m    115\u001b[0m \u001b[38;5;28;01mdel\u001b[39;00m \u001b[38;5;28mself\u001b[39m\u001b[38;5;241m.\u001b[39margs, \u001b[38;5;28mself\u001b[39m\u001b[38;5;241m.\u001b[39mkwds, \u001b[38;5;28mself\u001b[39m\u001b[38;5;241m.\u001b[39mfunc\n\u001b[1;32m    116\u001b[0m \u001b[38;5;28;01mtry\u001b[39;00m:\n\u001b[0;32m--> 117\u001b[0m     \u001b[38;5;28;01mreturn\u001b[39;00m \u001b[38;5;28;43mnext\u001b[39;49m\u001b[43m(\u001b[49m\u001b[38;5;28;43mself\u001b[39;49m\u001b[38;5;241;43m.\u001b[39;49m\u001b[43mgen\u001b[49m\u001b[43m)\u001b[49m\n\u001b[1;32m    118\u001b[0m \u001b[38;5;28;01mexcept\u001b[39;00m \u001b[38;5;167;01mStopIteration\u001b[39;00m:\n\u001b[1;32m    119\u001b[0m     \u001b[38;5;28;01mraise\u001b[39;00m \u001b[38;5;167;01mRuntimeError\u001b[39;00m(\u001b[38;5;124m\"\u001b[39m\u001b[38;5;124mgenerator didn\u001b[39m\u001b[38;5;124m'\u001b[39m\u001b[38;5;124mt yield\u001b[39m\u001b[38;5;124m\"\u001b[39m) \u001b[38;5;28;01mfrom\u001b[39;00m \u001b[38;5;28;01mNone\u001b[39;00m\n",
      "File \u001b[0;32m~/Library/Python/3.9/lib/python/site-packages/sklearn/_config.py:356\u001b[0m, in \u001b[0;36mconfig_context\u001b[0;34m(assume_finite, working_memory, print_changed_only, display, pairwise_dist_chunk_size, enable_cython_pairwise_dist, array_api_dispatch, transform_output, enable_metadata_routing, skip_parameter_validation)\u001b[0m\n\u001b[1;32m    211\u001b[0m \u001b[38;5;129m@contextmanager\u001b[39m\n\u001b[1;32m    212\u001b[0m \u001b[38;5;28;01mdef\u001b[39;00m \u001b[38;5;21mconfig_context\u001b[39m(\n\u001b[1;32m    213\u001b[0m     \u001b[38;5;241m*\u001b[39m,\n\u001b[0;32m   (...)\u001b[0m\n\u001b[1;32m    223\u001b[0m     skip_parameter_validation\u001b[38;5;241m=\u001b[39m\u001b[38;5;28;01mNone\u001b[39;00m,\n\u001b[1;32m    224\u001b[0m ):\n\u001b[1;32m    225\u001b[0m \u001b[38;5;250m    \u001b[39m\u001b[38;5;124;03m\"\"\"Context manager for global scikit-learn configuration.\u001b[39;00m\n\u001b[1;32m    226\u001b[0m \n\u001b[1;32m    227\u001b[0m \u001b[38;5;124;03m    Parameters\u001b[39;00m\n\u001b[0;32m   (...)\u001b[0m\n\u001b[1;32m    354\u001b[0m \u001b[38;5;124;03m    ValueError: Input contains NaN...\u001b[39;00m\n\u001b[1;32m    355\u001b[0m \u001b[38;5;124;03m    \"\"\"\u001b[39;00m\n\u001b[0;32m--> 356\u001b[0m     old_config \u001b[38;5;241m=\u001b[39m \u001b[43mget_config\u001b[49m\u001b[43m(\u001b[49m\u001b[43m)\u001b[49m\n\u001b[1;32m    357\u001b[0m     set_config(\n\u001b[1;32m    358\u001b[0m         assume_finite\u001b[38;5;241m=\u001b[39massume_finite,\n\u001b[1;32m    359\u001b[0m         working_memory\u001b[38;5;241m=\u001b[39mworking_memory,\n\u001b[0;32m   (...)\u001b[0m\n\u001b[1;32m    367\u001b[0m         skip_parameter_validation\u001b[38;5;241m=\u001b[39mskip_parameter_validation,\n\u001b[1;32m    368\u001b[0m     )\n\u001b[1;32m    370\u001b[0m     \u001b[38;5;28;01mtry\u001b[39;00m:\n",
      "File \u001b[0;32m~/Library/Python/3.9/lib/python/site-packages/sklearn/_config.py:54\u001b[0m, in \u001b[0;36mget_config\u001b[0;34m()\u001b[0m\n\u001b[1;32m     33\u001b[0m \u001b[38;5;250m\u001b[39m\u001b[38;5;124;03m\"\"\"Retrieve current values for configuration set by :func:`set_config`.\u001b[39;00m\n\u001b[1;32m     34\u001b[0m \n\u001b[1;32m     35\u001b[0m \u001b[38;5;124;03mReturns\u001b[39;00m\n\u001b[0;32m   (...)\u001b[0m\n\u001b[1;32m     50\u001b[0m \u001b[38;5;124;03mdict_keys([...])\u001b[39;00m\n\u001b[1;32m     51\u001b[0m \u001b[38;5;124;03m\"\"\"\u001b[39;00m\n\u001b[1;32m     52\u001b[0m \u001b[38;5;66;03m# Return a copy of the threadlocal configuration so that users will\u001b[39;00m\n\u001b[1;32m     53\u001b[0m \u001b[38;5;66;03m# not be able to modify the configuration with the returned dict.\u001b[39;00m\n\u001b[0;32m---> 54\u001b[0m \u001b[38;5;28;01mreturn\u001b[39;00m \u001b[43m_get_threadlocal_config\u001b[49m\u001b[43m(\u001b[49m\u001b[43m)\u001b[49m\u001b[38;5;241m.\u001b[39mcopy()\n",
      "File \u001b[0;32m~/Library/Python/3.9/lib/python/site-packages/sklearn/_config.py:27\u001b[0m, in \u001b[0;36m_get_threadlocal_config\u001b[0;34m()\u001b[0m\n\u001b[1;32m     24\u001b[0m \u001b[38;5;28;01mdef\u001b[39;00m \u001b[38;5;21m_get_threadlocal_config\u001b[39m():\n\u001b[1;32m     25\u001b[0m \u001b[38;5;250m    \u001b[39m\u001b[38;5;124;03m\"\"\"Get a threadlocal **mutable** configuration. If the configuration\u001b[39;00m\n\u001b[1;32m     26\u001b[0m \u001b[38;5;124;03m    does not exist, copy the default global configuration.\"\"\"\u001b[39;00m\n\u001b[0;32m---> 27\u001b[0m     \u001b[38;5;28;01mif\u001b[39;00m \u001b[38;5;129;01mnot\u001b[39;00m \u001b[38;5;28;43mhasattr\u001b[39;49m\u001b[43m(\u001b[49m\u001b[43m_threadlocal\u001b[49m\u001b[43m,\u001b[49m\u001b[43m \u001b[49m\u001b[38;5;124;43m\"\u001b[39;49m\u001b[38;5;124;43mglobal_config\u001b[39;49m\u001b[38;5;124;43m\"\u001b[39;49m\u001b[43m)\u001b[49m:\n\u001b[1;32m     28\u001b[0m         _threadlocal\u001b[38;5;241m.\u001b[39mglobal_config \u001b[38;5;241m=\u001b[39m _global_config\u001b[38;5;241m.\u001b[39mcopy()\n\u001b[1;32m     29\u001b[0m     \u001b[38;5;28;01mreturn\u001b[39;00m _threadlocal\u001b[38;5;241m.\u001b[39mglobal_config\n",
      "\u001b[0;31mKeyboardInterrupt\u001b[0m: "
     ]
    }
   ],
   "source": [
    "for i in range(10):\n",
    "    full_result.append(genetic_algorithm(population, population_size, max_generations, crossover_probability, mutation_probability))"
   ]
  },
  {
   "cell_type": "code",
   "execution_count": null,
   "metadata": {},
   "outputs": [],
   "source": [
    "full_result = {\n",
    "    \"Original\": 0.6177673874926943,\n",
    "    \"Generation 0\": 0.722969023962595,\n",
    "    \"Generation 1\": 0.7247223845704267,\n",
    "    \"Generation 2\": 0.7247223845704267,\n",
    "    \"Generation 3\": 0.7247223845704267,\n",
    "    \"Generation 4\": 0.7247223845704267,\n",
    "    \"Generation 5\": 0.7247223845704267,\n",
    "    \"Generation 6\": 0.7247223845704267,\n",
    "    \"Generation 7\": 0.7247223845704267,\n",
    "    \"Generation 8\": 0.7247223845704267,\n",
    "    \"Generation 9\": 0.7247223845704267\n",
    "}"
   ]
  },
  {
   "cell_type": "code",
   "execution_count": null,
   "metadata": {},
   "outputs": [],
   "source": []
  },
  {
   "cell_type": "code",
   "execution_count": null,
   "metadata": {},
   "outputs": [
    {
     "data": {
      "image/png": "[encoded data removed]",
      "text/plain": [
       "<Figure size 640x480 with 1 Axes>"
      ]
     },
     "metadata": {},
     "output_type": "display_data"
    }
   ],
   "source": [
    "import matplotlib.pyplot as plt\n",
    "\n",
    "# Extract the fitness values from the dictionary\n",
    "fitness_values = list(full_result.values())\n",
    "\n",
    "# Plot the result over generations\n",
    "plt.plot(fitness_values, label='Run 1')\n",
    "plt.xlabel('Generation')\n",
    "plt.ylabel('Fitness')\n",
    "plt.title('Fitness over Generations')\n",
    "plt.legend()\n",
    "plt.show()"
   ]
  },
  {
   "cell_type": "code",
   "execution_count": null,
   "metadata": {},
   "outputs": [
    {
     "name": "stdout",
     "output_type": "stream",
     "text": [
      "Fitting 5 folds for each of 10 candidates, totalling 50 fits\n"
     ]
    },
    {
     "name": "stderr",
     "output_type": "stream",
     "text": [
      "/Users/lap14632/Library/Python/3.9/lib/python/site-packages/sklearn/model_selection/_split.py:776: UserWarning: The least populated class in y has only 1 members, which is less than n_splits=5.\n",
      "  warnings.warn(\n"
     ]
    },
    {
     "name": "stdout",
     "output_type": "stream",
     "text": [
      "[CV] END max_depth=99, min_samples_split=83, n_estimators=100; total time=   0.1s\n",
      "[CV] END max_depth=18, min_samples_split=52, n_estimators=115; total time=   0.1s\n",
      "[CV] END max_depth=99, min_samples_split=83, n_estimators=100; total time=   0.1s\n",
      "[CV] END max_depth=99, min_samples_split=83, n_estimators=100; total time=   0.1s\n",
      "[CV] END max_depth=99, min_samples_split=83, n_estimators=100; total time=   0.1s\n",
      "[CV] END max_depth=99, min_samples_split=83, n_estimators=100; total time=   0.1s\n",
      "[CV] END max_depth=18, min_samples_split=52, n_estimators=115; total time=   0.1s\n",
      "[CV] END max_depth=18, min_samples_split=52, n_estimators=115; total time=   0.1s\n",
      "[CV] END max_depth=18, min_samples_split=52, n_estimators=115; total time=   0.1s\n",
      "[CV] END max_depth=10, min_samples_split=448, n_estimators=104; total time=   0.2s\n",
      "[CV] END max_depth=10, min_samples_split=448, n_estimators=104; total time=   0.2s\n",
      "[CV] END max_depth=10, min_samples_split=448, n_estimators=104; total time=   0.2s\n",
      "[CV] END max_depth=10, min_samples_split=448, n_estimators=104; total time=   0.2s\n",
      "[CV] END max_depth=18, min_samples_split=52, n_estimators=115; total time=   0.3s\n",
      "[CV] END max_depth=12, min_samples_split=434, n_estimators=104; total time=   0.2s\n",
      "[CV] END max_depth=10, min_samples_split=448, n_estimators=104; total time=   0.3s\n",
      "[CV] END max_depth=12, min_samples_split=434, n_estimators=104; total time=   0.3s\n",
      "[CV] END max_depth=12, min_samples_split=434, n_estimators=104; total time=   0.1s\n",
      "[CV] END max_depth=12, min_samples_split=434, n_estimators=104; total time=   0.1s\n",
      "[CV] END max_depth=12, min_samples_split=434, n_estimators=104; total time=   0.1s\n",
      "[CV] END max_depth=99, min_samples_split=83, n_estimators=275; total time=   0.2s\n",
      "[CV] END max_depth=99, min_samples_split=83, n_estimators=275; total time=   0.2s\n",
      "[CV] END max_depth=99, min_samples_split=83, n_estimators=275; total time=   0.2s\n",
      "[CV] END max_depth=99, min_samples_split=83, n_estimators=275; total time=   0.2s\n",
      "[CV] END max_depth=99, min_samples_split=83, n_estimators=275; total time=   0.3s\n",
      "[CV] END max_depth=12, min_samples_split=83, n_estimators=104; total time=   0.1s\n",
      "[CV] END max_depth=12, min_samples_split=83, n_estimators=104; total time=   0.1s\n",
      "[CV] END max_depth=12, min_samples_split=83, n_estimators=104; total time=   0.1s\n",
      "[CV] END max_depth=12, min_samples_split=83, n_estimators=104; total time=   0.1s\n",
      "[CV] END max_depth=12, min_samples_split=83, n_estimators=104; total time=   0.1s\n",
      "[CV] END max_depth=22, min_samples_split=434, n_estimators=500; total time=   0.5s\n",
      "[CV] END max_depth=22, min_samples_split=434, n_estimators=500; total time=   0.5s\n",
      "[CV] END max_depth=22, min_samples_split=434, n_estimators=500; total time=   0.5s\n",
      "[CV] END max_depth=22, min_samples_split=420, n_estimators=104; total time=   0.2s\n",
      "[CV] END max_depth=22, min_samples_split=420, n_estimators=104; total time=   0.1s\n",
      "[CV] END max_depth=22, min_samples_split=420, n_estimators=104; total time=   0.1s\n",
      "[CV] END max_depth=22, min_samples_split=420, n_estimators=104; total time=   0.2s\n",
      "[CV] END max_depth=22, min_samples_split=420, n_estimators=104; total time=   0.1s\n",
      "[CV] END max_depth=22, min_samples_split=434, n_estimators=500; total time=   0.5s\n",
      "[CV] END max_depth=22, min_samples_split=434, n_estimators=500; total time=   0.5s\n",
      "[CV] END max_depth=98, min_samples_split=194, n_estimators=366; total time=   0.3s\n",
      "[CV] END max_depth=98, min_samples_split=194, n_estimators=366; total time=   0.3s\n",
      "[CV] END max_depth=98, min_samples_split=194, n_estimators=366; total time=   0.3s\n",
      "[CV] END max_depth=98, min_samples_split=194, n_estimators=366; total time=   0.3s\n",
      "[CV] END max_depth=98, min_samples_split=194, n_estimators=366; total time=   0.3s\n",
      "[CV] END max_depth=99, min_samples_split=420, n_estimators=500; total time=   0.4s\n",
      "[CV] END max_depth=99, min_samples_split=420, n_estimators=500; total time=   0.3s\n",
      "[CV] END max_depth=99, min_samples_split=420, n_estimators=500; total time=   0.3s\n",
      "[CV] END max_depth=99, min_samples_split=420, n_estimators=500; total time=   0.3s\n",
      "[CV] END max_depth=99, min_samples_split=420, n_estimators=500; total time=   0.3s\n",
      "Best Parameters: {'n_estimators': 100, 'min_samples_split': 83, 'max_depth': 99}\n",
      "Best Cross-Validation Accuracy: 0.6499999999999999\n",
      "0.700759789596727\n"
     ]
    },
    {
     "data": {
      "text/plain": [
       "0.700759789596727"
      ]
     },
     "execution_count": 9,
     "metadata": {},
     "output_type": "execute_result"
    }
   ],
   "source": [
    "fun.grid_search(domain)"
   ]
  },
  {
   "cell_type": "markdown",
   "metadata": {},
   "source": [
    "- Tìm dataset khó hơn để start xấu hơn\n",
    "- Box plot so sánh giữa các phương pháp qua các score\n",
    "- Thêm nhiều score hơn\n",
    "- Hypothesis testing"
   ]
  },
  {
   "cell_type": "code",
   "execution_count": null,
   "metadata": {},
   "outputs": [],
   "source": []
  }
 ],
 "metadata": {
  "kernelspec": {
   "display_name": "Python 3",
   "language": "python",
   "name": "python3"
  },
  "language_info": {
   "codemirror_mode": {
    "name": "ipython",
    "version": 3
   },
   "file_extension": ".py",
   "mimetype": "text/x-python",
   "name": "python",
   "nbconvert_exporter": "python",
   "pygments_lexer": "ipython3",
   "version": "3.9.6"
  }
 },
 "nbformat": 4,
 "nbformat_minor": 2
}
